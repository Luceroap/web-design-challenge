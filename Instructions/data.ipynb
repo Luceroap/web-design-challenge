{
 "cells": [
  {
   "cell_type": "code",
   "execution_count": 1,
   "source": [
    "# Dependencies and Setup\r\n",
    "import matplotlib.pyplot as plt\r\n",
    "import pandas as pd\r\n",
    "import numpy as np\r\n",
    "import requests\r\n",
    "import time\r\n",
    "from citipy import citipy "
   ],
   "outputs": [],
   "metadata": {}
  },
  {
   "cell_type": "code",
   "execution_count": 2,
   "source": [
    "df = pd.read_csv (r'Resources\\cities.csv')   \r\n",
    "print (df)\r\n"
   ],
   "outputs": [
    {
     "output_type": "stream",
     "name": "stdout",
     "text": [
      "     City_ID          City  Cloudiness Country        Date  Humidity    Lat  \\\n",
      "0          0  jacareacanga           0      BR  1528902000        62  -6.22   \n",
      "1          1    kaitangata         100      NZ  1528905304        94 -46.28   \n",
      "2          2      goulburn          20      AU  1528905078        91 -34.75   \n",
      "3          3          lata          76      IN  1528905305        89  30.78   \n",
      "4          4    chokurdakh           0      RU  1528905306        88  70.62   \n",
      "..       ...           ...         ...     ...         ...       ...    ...   \n",
      "542      542        scalea          36      IT  1528905631       100  39.82   \n",
      "543      543    san andres          68      PH  1528905632       100  13.32   \n",
      "544      544        muisne          92      EC  1528905633        84   0.61   \n",
      "545      545           ati          20      TD  1528905633        25  13.21   \n",
      "546      546      san luis           0      AR  1528905472        53 -33.30   \n",
      "\n",
      "        Lng  Max Temp  Wind Speed  \n",
      "0    -57.76     89.60        6.93  \n",
      "1    169.85     42.61        5.64  \n",
      "2    149.72     44.32       10.11  \n",
      "3     78.62     59.89        0.94  \n",
      "4    147.90     32.17        2.95  \n",
      "..      ...       ...         ...  \n",
      "542   15.79     70.06        5.30  \n",
      "543  122.68     83.47       22.64  \n",
      "544  -80.02     76.90        4.63  \n",
      "545   18.34    104.53        4.97  \n",
      "546  -66.34     42.43        2.62  \n",
      "\n",
      "[547 rows x 10 columns]\n"
     ]
    }
   ],
   "metadata": {}
  },
  {
   "cell_type": "code",
   "execution_count": 3,
   "source": [
    "# Range of latitudes and longitudes\r\n",
    "lat_range = (-90, 90)\r\n",
    "lng_range = (-180, 180)\r\n",
    "\r\n",
    "lat_lngs = []\r\n",
    "cities = []\r\n",
    "\r\n",
    "# Create a set of random lat and lng combinations\r\n",
    "lats = np.random.uniform(lat_range[0], lat_range[1], size=1500)\r\n",
    "lngs = np.random.uniform(lng_range[0], lng_range[1], size=1500)\r\n",
    "lat_lngs = zip(lats, lngs)\r\n",
    "\r\n",
    "# Identify nearest city for each lat, lng combination\r\n",
    "for lat_lng in lat_lngs:\r\n",
    "    city = citipy.nearest_city(lat_lng[0], lat_lng[1]).city_name\r\n",
    "    \r\n",
    "    # If the city is unique, then add it to a our cities list\r\n",
    "    if city not in cities:\r\n",
    "        cities.append(city)\r\n",
    "\r\n",
    "# Print the city count to confirm sufficient count\r\n",
    "len(cities)"
   ],
   "outputs": [
    {
     "output_type": "execute_result",
     "data": {
      "text/plain": [
       "601"
      ]
     },
     "metadata": {},
     "execution_count": 3
    }
   ],
   "metadata": {}
  }
 ],
 "metadata": {
  "interpreter": {
   "hash": "f1a332ba46dd188da723af48cf43ed64bcc5970235cd045fb21461f31c8e71d8"
  },
  "kernelspec": {
   "name": "python3",
   "display_name": "Python 3.6.10 64-bit ('PythonData': conda)"
  },
  "language_info": {
   "codemirror_mode": {
    "name": "ipython",
    "version": 3
   },
   "file_extension": ".py",
   "mimetype": "text/x-python",
   "name": "python",
   "nbconvert_exporter": "python",
   "pygments_lexer": "ipython3",
   "version": "3.6.10"
  }
 },
 "nbformat": 4,
 "nbformat_minor": 2
}